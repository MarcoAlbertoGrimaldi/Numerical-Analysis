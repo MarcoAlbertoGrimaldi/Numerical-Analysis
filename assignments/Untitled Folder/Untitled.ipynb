{
 "cells": [
  {
   "cell_type": "code",
   "execution_count": 104,
   "metadata": {},
   "outputs": [
    {
     "name": "stdout",
     "output_type": "stream",
     "text": [
      "Populating the interactive namespace from numpy and matplotlib\n"
     ]
    }
   ],
   "source": [
    "%pylab inline\n",
    "numpy.set_printoptions(precision=2,suppress=True)"
   ]
  },
  {
   "cell_type": "code",
   "execution_count": 143,
   "metadata": {},
   "outputs": [],
   "source": [
    "A = zeros((10,10))\n",
    "for i in range(10):\n",
    "    A[i,i]=i+1\n",
    "for i in range(9):    \n",
    "    A[i,i+1]=11+i\n",
    "for i in range(9):    \n",
    "    A[i+1,i]=102+i"
   ]
  },
  {
   "cell_type": "code",
   "execution_count": 144,
   "metadata": {},
   "outputs": [
    {
     "data": {
      "text/plain": [
       "array([[  1.,  11.,   0.,   0.,   0.,   0.,   0.,   0.,   0.,   0.],\n",
       "       [102.,   2.,  12.,   0.,   0.,   0.,   0.,   0.,   0.,   0.],\n",
       "       [  0., 103.,   3.,  13.,   0.,   0.,   0.,   0.,   0.,   0.],\n",
       "       [  0.,   0., 104.,   4.,  14.,   0.,   0.,   0.,   0.,   0.],\n",
       "       [  0.,   0.,   0., 105.,   5.,  15.,   0.,   0.,   0.,   0.],\n",
       "       [  0.,   0.,   0.,   0., 106.,   6.,  16.,   0.,   0.,   0.],\n",
       "       [  0.,   0.,   0.,   0.,   0., 107.,   7.,  17.,   0.,   0.],\n",
       "       [  0.,   0.,   0.,   0.,   0.,   0., 108.,   8.,  18.,   0.],\n",
       "       [  0.,   0.,   0.,   0.,   0.,   0.,   0., 109.,   9.,  19.],\n",
       "       [  0.,   0.,   0.,   0.,   0.,   0.,   0.,   0., 110.,  10.]])"
      ]
     },
     "execution_count": 144,
     "metadata": {},
     "output_type": "execute_result"
    }
   ],
   "source": [
    "A"
   ]
  },
  {
   "cell_type": "code",
   "execution_count": 145,
   "metadata": {},
   "outputs": [],
   "source": [
    "a=diag(A)\n",
    "b=diag(A,-1)\n",
    "c=diag(A,+1)\n",
    "\n",
    "alfa=zeros(10)\n",
    "beta=zeros(9)"
   ]
  },
  {
   "cell_type": "code",
   "execution_count": 146,
   "metadata": {},
   "outputs": [
    {
     "data": {
      "text/plain": [
       "(array([ 1.,  2.,  3.,  4.,  5.,  6.,  7.,  8.,  9., 10.]),\n",
       " array([102., 103., 104., 105., 106., 107., 108., 109., 110.]),\n",
       " array([11., 12., 13., 14., 15., 16., 17., 18., 19.]))"
      ]
     },
     "execution_count": 146,
     "metadata": {},
     "output_type": "execute_result"
    }
   ],
   "source": [
    "a,b,c"
   ]
  },
  {
   "cell_type": "code",
   "execution_count": 172,
   "metadata": {},
   "outputs": [
    {
     "data": {
      "text/plain": [
       "(array([    1.  , -1120.  ,     4.1 ,  -325.47,     9.52,  -161.08,\n",
       "           17.63,   -96.15,    29.41,     0.  ]),\n",
       " array([102.  ,  -0.09,  25.34,  -0.32,  11.14,  -0.66,   6.13,  -1.13,\n",
       "         -0.05]))"
      ]
     },
     "execution_count": 172,
     "metadata": {},
     "output_type": "execute_result"
    }
   ],
   "source": [
    "alfa[0]=a[0]\n",
    "for i in range(1,9):\n",
    "    beta[i-1]=b[i-1]/alfa[i-1]\n",
    "    alfa[i]=a[i]-beta[i-1]*c[i-1]\n",
    "alfa, beta"
   ]
  },
  {
   "cell_type": "code",
   "execution_count": 173,
   "metadata": {},
   "outputs": [],
   "source": [
    "L=zeros((10,10))\n",
    "U=L"
   ]
  },
  {
   "cell_type": "code",
   "execution_count": 174,
   "metadata": {},
   "outputs": [
    {
     "data": {
      "text/plain": [
       "(array([[  1.  ,   0.  ,   0.  ,   0.  ,   0.  ,   0.  ,   0.  ,   0.  ,\n",
       "           0.  ,   0.  ],\n",
       "        [102.  ,   1.  ,   0.  ,   0.  ,   0.  ,   0.  ,   0.  ,   0.  ,\n",
       "           0.  ,   0.  ],\n",
       "        [  0.  ,  -0.09,   1.  ,   0.  ,   0.  ,   0.  ,   0.  ,   0.  ,\n",
       "           0.  ,   0.  ],\n",
       "        [  0.  ,   0.  ,  25.34,   1.  ,   0.  ,   0.  ,   0.  ,   0.  ,\n",
       "           0.  ,   0.  ],\n",
       "        [  0.  ,   0.  ,   0.  ,  -0.32,   1.  ,   0.  ,   0.  ,   0.  ,\n",
       "           0.  ,   0.  ],\n",
       "        [  0.  ,   0.  ,   0.  ,   0.  ,  11.14,   1.  ,   0.  ,   0.  ,\n",
       "           0.  ,   0.  ],\n",
       "        [  0.  ,   0.  ,   0.  ,   0.  ,   0.  ,  -0.66,   1.  ,   0.  ,\n",
       "           0.  ,   0.  ],\n",
       "        [  0.  ,   0.  ,   0.  ,   0.  ,   0.  ,   0.  ,   6.13,   1.  ,\n",
       "           0.  ,   0.  ],\n",
       "        [  0.  ,   0.  ,   0.  ,   0.  ,   0.  ,   0.  ,   0.  ,  -1.13,\n",
       "           1.  ,   0.  ],\n",
       "        [  0.  ,   0.  ,   0.  ,   0.  ,   0.  ,   0.  ,   0.  ,   0.  ,\n",
       "          -0.05,   1.  ]]),\n",
       " array([[    1.  ,    11.  ,     0.  ,     0.  ,     0.  ,     0.  ,\n",
       "             0.  ,     0.  ,     0.  ,     0.  ],\n",
       "        [    0.  , -1120.  ,    12.  ,     0.  ,     0.  ,     0.  ,\n",
       "             0.  ,     0.  ,     0.  ,     0.  ],\n",
       "        [    0.  ,     0.  ,     4.1 ,    13.  ,     0.  ,     0.  ,\n",
       "             0.  ,     0.  ,     0.  ,     0.  ],\n",
       "        [    0.  ,     0.  ,     0.  ,  -325.47,    14.  ,     0.  ,\n",
       "             0.  ,     0.  ,     0.  ,     0.  ],\n",
       "        [    0.  ,     0.  ,     0.  ,     0.  ,     9.52,    15.  ,\n",
       "             0.  ,     0.  ,     0.  ,     0.  ],\n",
       "        [    0.  ,     0.  ,     0.  ,     0.  ,     0.  ,  -161.08,\n",
       "            16.  ,     0.  ,     0.  ,     0.  ],\n",
       "        [    0.  ,     0.  ,     0.  ,     0.  ,     0.  ,     0.  ,\n",
       "            17.63,    17.  ,     0.  ,     0.  ],\n",
       "        [    0.  ,     0.  ,     0.  ,     0.  ,     0.  ,     0.  ,\n",
       "             0.  ,   -96.15,    18.  ,     0.  ],\n",
       "        [    0.  ,     0.  ,     0.  ,     0.  ,     0.  ,     0.  ,\n",
       "             0.  ,     0.  ,    29.41,    19.  ],\n",
       "        [    0.  ,     0.  ,     0.  ,     0.  ,     0.  ,     0.  ,\n",
       "             0.  ,     0.  ,     0.  ,     0.  ]]))"
      ]
     },
     "execution_count": 174,
     "metadata": {},
     "output_type": "execute_result"
    }
   ],
   "source": [
    "L=diag(ones(10))+diag(beta,-1)\n",
    "U=diag(alfa)+diag(c,+1)\n",
    "L,U\n"
   ]
  },
  {
   "cell_type": "code",
   "execution_count": 175,
   "metadata": {},
   "outputs": [
    {
     "data": {
      "text/plain": [
       "array([[  1.  ,  11.  ,   0.  ,   0.  ,   0.  ,   0.  ,   0.  ,   0.  ,\n",
       "          0.  ,   0.  ],\n",
       "       [102.  ,   2.  ,  12.  ,   0.  ,   0.  ,   0.  ,   0.  ,   0.  ,\n",
       "          0.  ,   0.  ],\n",
       "       [  0.  , 103.  ,   3.  ,  13.  ,   0.  ,   0.  ,   0.  ,   0.  ,\n",
       "          0.  ,   0.  ],\n",
       "       [  0.  ,   0.  , 104.  ,   4.  ,  14.  ,   0.  ,   0.  ,   0.  ,\n",
       "          0.  ,   0.  ],\n",
       "       [  0.  ,   0.  ,   0.  , 105.  ,   5.  ,  15.  ,   0.  ,   0.  ,\n",
       "          0.  ,   0.  ],\n",
       "       [  0.  ,   0.  ,   0.  ,   0.  , 106.  ,   6.  ,  16.  ,   0.  ,\n",
       "          0.  ,   0.  ],\n",
       "       [  0.  ,   0.  ,   0.  ,   0.  ,   0.  , 107.  ,   7.  ,  17.  ,\n",
       "          0.  ,   0.  ],\n",
       "       [  0.  ,   0.  ,   0.  ,   0.  ,   0.  ,   0.  , 108.  ,   8.  ,\n",
       "         18.  ,   0.  ],\n",
       "       [  0.  ,   0.  ,   0.  ,   0.  ,   0.  ,   0.  ,   0.  , 109.  ,\n",
       "          9.  ,  19.  ],\n",
       "       [  0.  ,   0.  ,   0.  ,   0.  ,   0.  ,   0.  ,   0.  ,   0.  ,\n",
       "         -1.37,  -0.89]])"
      ]
     },
     "execution_count": 175,
     "metadata": {},
     "output_type": "execute_result"
    }
   ],
   "source": [
    "L.dot(U)"
   ]
  },
  {
   "cell_type": "code",
   "execution_count": 190,
   "metadata": {
    "scrolled": true
   },
   "outputs": [
    {
     "data": {
      "text/plain": [
       "(array([ 12., 116., 119., 122., 125., 128., 131., 134., 137., 120.]),\n",
       " array([   102.  , -10288.  ,   -827.13,  21084.56,   6927.12, -77029.57,\n",
       "        -51038.02, 312816.54, 354760.5 ,  16704.72]))"
      ]
     },
     "execution_count": 190,
     "metadata": {},
     "output_type": "execute_result"
    }
   ],
   "source": [
    "y=zeros(10)\n",
    "bb=A.dot(ones(10))\n",
    "y[0]=b[0]\n",
    "for i in range(1,10):\n",
    "    y[i]=bb[i]-beta[i-1]*y[i-1]\n",
    "bb, y"
   ]
  },
  {
   "cell_type": "code",
   "execution_count": 188,
   "metadata": {},
   "outputs": [
    {
     "name": "stderr",
     "output_type": "stream",
     "text": [
      "/home/marco/anaconda3/lib/python3.7/site-packages/ipykernel_launcher.py:2: RuntimeWarning: divide by zero encountered in double_scalars\n",
      "  \n"
     ]
    }
   ],
   "source": [
    "x=zeros(10)\n",
    "x[9]=y[9]/alfa[9]\n"
   ]
  },
  {
   "cell_type": "code",
   "execution_count": null,
   "metadata": {},
   "outputs": [],
   "source": [
    "for i in range (8,0,-1):\n",
    "    x[i]=(y[i]-c[i]*x[i+1])/alfa[i]\n",
    "    "
   ]
  },
  {
   "cell_type": "code",
   "execution_count": null,
   "metadata": {},
   "outputs": [],
   "source": []
  },
  {
   "cell_type": "code",
   "execution_count": null,
   "metadata": {},
   "outputs": [],
   "source": []
  }
 ],
 "metadata": {
  "kernelspec": {
   "display_name": "Python 3",
   "language": "python",
   "name": "python3"
  },
  "language_info": {
   "codemirror_mode": {
    "name": "ipython",
    "version": 3
   },
   "file_extension": ".py",
   "mimetype": "text/x-python",
   "name": "python",
   "nbconvert_exporter": "python",
   "pygments_lexer": "ipython3",
   "version": "3.7.0"
  }
 },
 "nbformat": 4,
 "nbformat_minor": 2
}
